{
 "cells": [
  {
   "cell_type": "markdown",
   "metadata": {},
   "source": [
    "Name: Numpy arrays | Author: Alf Köhn | Version 03.11.2018 | License: CC BY-SA 4.0\n",
    "***\n",
    "# NumPy arrays\n",
    "\n",
    "This document is intended to provide a short overview about NumPy arrays and what can be done with them. The motivation to write this document was to have something for myself where I can look certain things up intead of always having to ask Dr. Google. Hence, the examples shown are simply due to personal preference and what I consider as important. If you are looking for a detailed and thorough introduction with some background information, then there are tons of places out there in the internet waiting for you. There even exists some old school books. A few recommendations are:\n",
    "\n",
    "* Jake VanderPlas, *Python Data Science Handbook: Essential Tools for Working with Data* (2016, O'Reilly Media)\n",
    "* https://www.tutorialspoint.com/numpy/numpy_array_creation_routines.htm\n",
    "* The [official SciPy docs](https://docs.scipy.org/doc/numpy/reference/) are very useful, in particular the part about [array creation](https://docs.scipy.org/doc/numpy/reference/routines.array-creation.html) and [array manipulation](https://docs.scipy.org/doc/numpy/reference/routines.array-manipulation.html)\n",
    "\n",
    "Back to my brief overview. It is organized as follows:\n",
    "\n",
    "1. [Create arrays](#1.-Create-arrays)\n",
    "2. [Array attributes](#2.-Array-attributes)\n",
    "3. [Array indexing (access elements)](#3.-Array-indexing)\n",
    "4. [Array slicing (access subarrays)](#4.-Array-slicing)\n",
    "5. [Reshape arrays](#5.-Reshape-arrays)\n",
    "6. [Concatenate arrays](#6.-Concatenate-arrays)\n",
    "7. [Split arrays](#7.-Split-arrays)\n",
    "8. [Array methods](#8.-Array-methods)\n",
    "9. [Search arrays](#9.-Search-arrays)\n",
    "\n",
    "A few things to note:\n",
    "1. In a NumPy array, all elements have to be of the same datatype  (in contrast to python lists)\n",
    "2. NumPy arrays are more memory efficient than python lists, i.e. they use less memory"
   ]
  },
  {
   "cell_type": "code",
   "execution_count": 1,
   "metadata": {
    "collapsed": true
   },
   "outputs": [],
   "source": [
    "# the convention is to import numpy as np\n",
    "# (but feel free to name it as you like)\n",
    "import numpy as np"
   ]
  },
  {
   "cell_type": "markdown",
   "metadata": {},
   "source": [
    "## 1. Create arrays\n",
    "\n",
    "### 1.1 Homogeneous array"
   ]
  },
  {
   "cell_type": "code",
   "execution_count": 2,
   "metadata": {},
   "outputs": [
    {
     "data": {
      "text/plain": [
       "array([0, 0, 0, 0])"
      ]
     },
     "execution_count": 2,
     "metadata": {},
     "output_type": "execute_result"
    }
   ],
   "source": [
    "# creating arrays with zeros\n",
    "np.zeros( shape=4, dtype=int )"
   ]
  },
  {
   "cell_type": "code",
   "execution_count": 3,
   "metadata": {},
   "outputs": [
    {
     "data": {
      "text/plain": [
       "array([[ 0.,  0.,  0.,  0.,  0.],\n",
       "       [ 0.,  0.,  0.,  0.,  0.]])"
      ]
     },
     "execution_count": 3,
     "metadata": {},
     "output_type": "execute_result"
    }
   ],
   "source": [
    "np.zeros( shape=(2,5) )"
   ]
  },
  {
   "cell_type": "code",
   "execution_count": 4,
   "metadata": {},
   "outputs": [
    {
     "data": {
      "text/plain": [
       "array([ 1.,  1.,  1.,  1.,  1.,  1.,  1.,  1.,  1.,  1.])"
      ]
     },
     "execution_count": 4,
     "metadata": {},
     "output_type": "execute_result"
    }
   ],
   "source": [
    "# creating arrays with ones\n",
    "np.ones( 10 )"
   ]
  },
  {
   "cell_type": "markdown",
   "metadata": {},
   "source": [
    "### 1.2 Arrays from existing data"
   ]
  },
  {
   "cell_type": "code",
   "execution_count": 5,
   "metadata": {},
   "outputs": [
    {
     "data": {
      "text/plain": [
       "array([ 1,  4, 42])"
      ]
     },
     "execution_count": 5,
     "metadata": {},
     "output_type": "execute_result"
    }
   ],
   "source": [
    "# creating a numpy array from an existing array\n",
    "np.array( [1, 4, 42] )"
   ]
  },
  {
   "cell_type": "code",
   "execution_count": 6,
   "metadata": {},
   "outputs": [
    {
     "data": {
      "text/plain": [
       "array([[1, 2],\n",
       "       [3, 4]])"
      ]
     },
     "execution_count": 6,
     "metadata": {},
     "output_type": "execute_result"
    }
   ],
   "source": [
    "# creating a 2D numpy array from existing data\n",
    "np.array( [[1, 2], \n",
    "           [3, 4]] )"
   ]
  },
  {
   "cell_type": "code",
   "execution_count": 7,
   "metadata": {},
   "outputs": [
    {
     "data": {
      "text/plain": [
       "array([ 1.,  3.,  5.])"
      ]
     },
     "execution_count": 7,
     "metadata": {},
     "output_type": "execute_result"
    }
   ],
   "source": [
    "# convert into numpy array (input can for example be tuples)\n",
    "np.asarray( (1,3,5), dtype=np.float64 )"
   ]
  },
  {
   "cell_type": "code",
   "execution_count": 8,
   "metadata": {},
   "outputs": [
    {
     "name": "stdout",
     "output_type": "stream",
     "text": [
      "[ 1.  0.  0.] [ 1.  0.  0.] [ 0.  0.  0.]\n"
     ]
    }
   ],
   "source": [
    "# create an array referenced (linked) to an original array and a copy\n",
    "arr1 = np.zeros( 3 )\n",
    "arr2 = arr1\n",
    "arr3 = np.copy( arr1 )\n",
    "\n",
    "# changing arr1 now changes arr2 as well, but not arr3\n",
    "arr1[0] = 1\n",
    "print( arr1, arr2, arr3)"
   ]
  },
  {
   "cell_type": "markdown",
   "metadata": {},
   "source": [
    "### 1.3 Empty arrays"
   ]
  },
  {
   "cell_type": "code",
   "execution_count": 9,
   "metadata": {},
   "outputs": [
    {
     "data": {
      "text/plain": [
       "array([  6.91561691e-310,   6.91561691e-310,   6.91561429e-310,\n",
       "         5.31021756e-317,   2.71475871e-316,   1.08771139e-313,\n",
       "         3.16202013e-322])"
      ]
     },
     "execution_count": 9,
     "metadata": {},
     "output_type": "execute_result"
    }
   ],
   "source": [
    "# creating an empty array of given shape and dtype without initializing entries\n",
    "# it should be somewhat faster than `np.ones` or `np.zeros` (but all entries have to be set)\n",
    "np.empty( shape=7, dtype=float )"
   ]
  },
  {
   "cell_type": "markdown",
   "metadata": {},
   "source": [
    "### 1.4 Numerical ranges"
   ]
  },
  {
   "cell_type": "code",
   "execution_count": 10,
   "metadata": {},
   "outputs": [
    {
     "data": {
      "text/plain": [
       "array([0, 2, 4, 6, 8])"
      ]
     },
     "execution_count": 10,
     "metadata": {},
     "output_type": "execute_result"
    }
   ],
   "source": [
    "# evenly spaced values within a given interval\n",
    "# Values are generated within the half-open interval [start, stop) \n",
    "# note: for non-integer values, linspace is recommended instead\n",
    "np.arange( start=0, stop=10, step=2)"
   ]
  },
  {
   "cell_type": "code",
   "execution_count": 11,
   "metadata": {},
   "outputs": [
    {
     "data": {
      "text/plain": [
       "array([  0.        ,   1.11111111,   2.22222222,   3.33333333,\n",
       "         4.44444444,   5.55555556,   6.66666667,   7.77777778,\n",
       "         8.88888889,  10.        ])"
      ]
     },
     "execution_count": 11,
     "metadata": {},
     "output_type": "execute_result"
    }
   ],
   "source": [
    "# Return evenly spaced numbers over a specified interval.\n",
    "# Returns 'num' evenly spaced samples, calculated over the interval [start, stop].\n",
    "# The endpoint of the interval can optionally be excluded.\n",
    "np.linspace( start=0, stop=10, num=10)"
   ]
  },
  {
   "cell_type": "code",
   "execution_count": 12,
   "metadata": {},
   "outputs": [
    {
     "data": {
      "text/plain": [
       "array([  1.        ,   1.29154967,   1.66810054,   2.15443469,\n",
       "         2.7825594 ,   3.59381366,   4.64158883,   5.9948425 ,\n",
       "         7.74263683,  10.        ])"
      ]
     },
     "execution_count": 12,
     "metadata": {},
     "output_type": "execute_result"
    }
   ],
   "source": [
    "# Return numbers spaced evenly on a log scale.\n",
    "\n",
    "# In linear space, the sequence starts at base^start and ends with base^stop.\n",
    "np.logspace( start=.0, stop=1, num=10, base=10 )"
   ]
  },
  {
   "cell_type": "markdown",
   "metadata": {},
   "source": [
    "### 1.5 Random numbers"
   ]
  },
  {
   "cell_type": "code",
   "execution_count": 13,
   "metadata": {},
   "outputs": [
    {
     "data": {
      "text/plain": [
       "array([6, 3, 7, 4, 6])"
      ]
     },
     "execution_count": 13,
     "metadata": {},
     "output_type": "execute_result"
    }
   ],
   "source": [
    "# using a seed ensures reproducibility\n",
    "# i.e. to always get the same random number sequence\n",
    "np.random.seed(42)\n",
    "\n",
    "# random integers\n",
    "# 1D array with random numbers in interval [0, 10)\n",
    "np.random.randint(10, size=5)"
   ]
  },
  {
   "cell_type": "code",
   "execution_count": 14,
   "metadata": {},
   "outputs": [
    {
     "data": {
      "text/plain": [
       "array([[19, 12, 16, 17, 14],\n",
       "       [13, 17, 17, 12, 15]])"
      ]
     },
     "execution_count": 14,
     "metadata": {},
     "output_type": "execute_result"
    }
   ],
   "source": [
    "# 2D array with random numbers in interval [10,20)\n",
    "np.random.randint(low=10, high=20, size=(2,5) )"
   ]
  },
  {
   "cell_type": "code",
   "execution_count": 15,
   "metadata": {},
   "outputs": [
    {
     "data": {
      "text/plain": [
       "array([[[  5.64115790e-02,   7.21998772e-01,   9.38552709e-01],\n",
       "        [  7.78765841e-04,   9.92211559e-01,   6.17481510e-01],\n",
       "        [  6.11653160e-01,   7.06630522e-03,   2.30624250e-02],\n",
       "        [  5.24774660e-01,   3.99860972e-01,   4.66656632e-02],\n",
       "        [  9.73755519e-01,   2.32771340e-01,   9.06064345e-02]],\n",
       "\n",
       "       [[  6.18386009e-01,   3.82461991e-01,   9.83230886e-01],\n",
       "        [  4.66762893e-01,   8.59940407e-01,   6.80307539e-01],\n",
       "        [  4.50499252e-01,   1.32649612e-02,   9.42201756e-01],\n",
       "        [  5.63288218e-01,   3.85416503e-01,   1.59662522e-02],\n",
       "        [  2.30893826e-01,   2.41025466e-01,   6.83263519e-01]]])"
      ]
     },
     "execution_count": 15,
     "metadata": {},
     "output_type": "execute_result"
    }
   ],
   "source": [
    "# 3D array with random floats uniformly distributed in interval [0,1)\n",
    "np.random.random( size=(2,5,3) )"
   ]
  },
  {
   "cell_type": "markdown",
   "metadata": {},
   "source": [
    "## 2. Array attributes\n",
    "\n",
    "numpy array have attributes \n",
    "* ndim: number of dimensions\n",
    "* shape: size of dimensions\n",
    "* size: total size of array\n",
    "* dtype: data type of array\n",
    "* itemsize: size of each array elements in bytes\n",
    "* nbytes: total size of array in bytes (should be size*itemsize)\n"
   ]
  },
  {
   "cell_type": "code",
   "execution_count": 16,
   "metadata": {},
   "outputs": [
    {
     "name": "stdout",
     "output_type": "stream",
     "text": [
      "arr_3D ndim    : 3\n",
      "arr_3D shape   : (2, 5, 3)\n",
      "arr_3D size    : 30\n",
      "arr_3D dtype   : int64\n",
      "arr_3D itemsize: 8\n",
      "arr_3D nbytes  : 240\n"
     ]
    }
   ],
   "source": [
    "# create 3D array with random integers\n",
    "arr_3D = np.random.randint(10, size=(2,5,3) )\n",
    "\n",
    "print( \"arr_3D ndim    : {0}\".format(arr_3D.ndim) )\n",
    "print( \"arr_3D shape   : {0}\".format(arr_3D.shape) )\n",
    "print( \"arr_3D size    : {0}\".format(arr_3D.size) )\n",
    "print( \"arr_3D dtype   : {0}\".format(arr_3D.dtype) )\n",
    "print( \"arr_3D itemsize: {0}\".format(arr_3D.itemsize) )\n",
    "print( \"arr_3D nbytes  : {0}\".format(arr_3D.nbytes) )"
   ]
  },
  {
   "cell_type": "markdown",
   "metadata": {},
   "source": [
    "## 3. Array indexing\n",
    "\n",
    "Indexing is very similar to other programming languages like Java or C. To access elements use the bracket operator `[]` where multiple dimensions are separated by a comma. \n",
    "\n",
    "Note that you can use negative numbers as indices in python to retrieve values offset from the end of the array."
   ]
  },
  {
   "cell_type": "code",
   "execution_count": 17,
   "metadata": {},
   "outputs": [
    {
     "name": "stdout",
     "output_type": "stream",
     "text": [
      "arr_1D                       : [8 6 8 7 0]\n",
      "1st element of arr_1D        : 8\n",
      "last element of arr_1D       : 0\n",
      "second-last element of arr_1D: 7\n"
     ]
    }
   ],
   "source": [
    "# 1D array with random numbers in interval [0, 10)\n",
    "arr_1D = np.random.randint(10, size=5)\n",
    "\n",
    "# accessing single elements of 1D array\n",
    "print( \"arr_1D                       : {0}\".format( arr_1D     ))\n",
    "print( \"1st element of arr_1D        : {0}\".format( arr_1D[0]  ))\n",
    "print( \"last element of arr_1D       : {0}\".format( arr_1D[-1] ))\n",
    "print( \"second-last element of arr_1D: {0}\".format( arr_1D[-2] ))"
   ]
  },
  {
   "cell_type": "code",
   "execution_count": 18,
   "metadata": {},
   "outputs": [
    {
     "name": "stdout",
     "output_type": "stream",
     "text": [
      "arr_2D                       :\n",
      "[[17 17 12 10 17]\n",
      " [12 12 10 14 19]]\n",
      "    1st col, 2nd row         : 12\n",
      "    3rd col, 2st row         : 10\n"
     ]
    }
   ],
   "source": [
    "# 2D array with random numbers in interval [10,20)\n",
    "arr_2D = np.random.randint(low=10, high=20, size=(2,5) )\n",
    "\n",
    "# accessing single elements of 2D array\n",
    "print( \"arr_2D                       :\")\n",
    "print( arr_2D )\n",
    "print( \"    1st col, 2nd row         : {0}\".format( arr_2D[1,0] ))\n",
    "print( \"    3rd col, 2st row         : {0}\".format( arr_2D[1,2] ))"
   ]
  },
  {
   "cell_type": "markdown",
   "metadata": {},
   "source": [
    "## 4. Array slicing\n",
    "\n",
    "Slicing a NumPy array means accessing a subarray of the original array. This can be done via the colon operation `:` like `[from:to]`, starting at `from` and stopping one item before `to`.\n",
    "\n",
    "In general, slicing works as \n",
    "* `array[ start:stop:step ]`\n",
    "\n",
    "with default values of \n",
    "* `start=0`,\n",
    "* `stop=size of dimension`, \n",
    "* `step=1`."
   ]
  },
  {
   "cell_type": "code",
   "execution_count": 19,
   "metadata": {},
   "outputs": [
    {
     "name": "stdout",
     "output_type": "stream",
     "text": [
      "arr_1D                 : [8 6 8 7 0]\n",
      "    first 3 elements   : [8 6 8]\n",
      "    every other element: [8 8 0]\n"
     ]
    }
   ],
   "source": [
    "print( \"arr_1D                 : {0}\".format( arr_1D      )) # equivalent to arr_1D[:]\n",
    "print( \"    first 3 elements   : {0}\".format( arr_1D[:3]  ))\n",
    "print( \"    every other element: {0}\".format( arr_1D[::2] ))"
   ]
  },
  {
   "cell_type": "code",
   "execution_count": 20,
   "metadata": {},
   "outputs": [
    {
     "name": "stdout",
     "output_type": "stream",
     "text": [
      "arr_2D\n",
      "[[17 17 12 10 17]\n",
      " [12 12 10 14 19]]\n",
      "    third  column: [12 10]\n",
      "    second row   : [12 12 10 14 19]\n",
      "    all columns except last: \n",
      "[[17 17 12 10]\n",
      " [12 12 10 14]]\n"
     ]
    }
   ],
   "source": [
    "print( \"arr_2D\" )\n",
    "print( arr_2D )\n",
    "print( \"    third  column: {0}\".format( arr_2D[:,2] ))\n",
    "print( \"    second row   : {0}\".format( arr_2D[1,:] ))\n",
    "print( \"    all columns except last: \")\n",
    "print( arr_2D[:,:-1] )\n",
    "# attention: for row-access, arr_2D[1,:] is equivalent to arr_2D[1]"
   ]
  },
  {
   "cell_type": "markdown",
   "metadata": {},
   "source": [
    "Note: using negative step values, results in swapping `start` and `stop`, thus providing an easy way to reverse an array."
   ]
  },
  {
   "cell_type": "code",
   "execution_count": 21,
   "metadata": {},
   "outputs": [
    {
     "name": "stdout",
     "output_type": "stream",
     "text": [
      "arr_1D         : [8 6 8 7 0]\n",
      "arr_1D reversed: [0 7 8 6 8]\n"
     ]
    }
   ],
   "source": [
    "print( \"arr_1D         : {0}\".format( arr_1D       ))\n",
    "print( \"arr_1D reversed: {0}\".format( arr_1D[::-1] ))"
   ]
  },
  {
   "cell_type": "markdown",
   "metadata": {},
   "source": [
    "Array slices are *not* copies, but rather *views* of the original array. That means they are still linked to the original array. Hence, changing the slice will also change the original array. \n",
    "\n",
    "If you want instead a copy, use the `copy()` method (see above at [Create arrays from existing data](#1.2-Arrays-from-existing-data) )"
   ]
  },
  {
   "cell_type": "code",
   "execution_count": 22,
   "metadata": {},
   "outputs": [
    {
     "name": "stdout",
     "output_type": "stream",
     "text": [
      "arr_2D:\n",
      "[[7 9 7 9 8]\n",
      " [2 1 7 7 8]]\n",
      "arr_2D slice:\n",
      "[[7 9]\n",
      " [7 7]]\n"
     ]
    }
   ],
   "source": [
    "# 2D array with random numbers in interval [10,20)\n",
    "arr_2D = np.random.randint(low=1, high=10, size=(2,5) )\n",
    "\n",
    "print(\"arr_2D:\")\n",
    "print( arr_2D )\n",
    "\n",
    "arr_2D_slice = arr_2D[ 0:, 2:4]\n",
    "\n",
    "print(\"arr_2D slice:\")\n",
    "print( arr_2D_slice )"
   ]
  },
  {
   "cell_type": "code",
   "execution_count": 23,
   "metadata": {},
   "outputs": [
    {
     "name": "stdout",
     "output_type": "stream",
     "text": [
      "arr_2D slice:\n",
      "[[42  9]\n",
      " [ 7  7]]\n",
      "arr_2D:\n",
      "[[ 7  9 42  9  8]\n",
      " [ 2  1  7  7  8]]\n"
     ]
    }
   ],
   "source": [
    "# changing element in slice also changes element in original array\n",
    "arr_2D_slice[0,0] = 42\n",
    "print(\"arr_2D slice:\")\n",
    "print( arr_2D_slice )\n",
    "\n",
    "print(\"arr_2D:\")\n",
    "print( arr_2D )"
   ]
  },
  {
   "cell_type": "code",
   "execution_count": 24,
   "metadata": {
    "collapsed": true
   },
   "outputs": [],
   "source": [
    "# making a copy (not linked to the original) of the array\n",
    "arr_2D_copy = arr_2D[ 0:, 2:4].copy()"
   ]
  },
  {
   "cell_type": "markdown",
   "metadata": {},
   "source": [
    "## 5. Reshape arrays\n",
    "\n",
    "### 5.1 The `reshape` method\n",
    "\n",
    "With `reshape` it is possible to change the shape of an array without changing its elements."
   ]
  },
  {
   "cell_type": "code",
   "execution_count": 25,
   "metadata": {},
   "outputs": [
    {
     "name": "stdout",
     "output_type": "stream",
     "text": [
      "original array with shape = (3,): \n",
      "[1 2 3]\n",
      "\n",
      "reshaped array with shape = (3, 1): \n",
      "[[1]\n",
      " [2]\n",
      " [3]]\n"
     ]
    }
   ],
   "source": [
    "# converting a 1D array into a 2D array\n",
    "# using the reshape method to creating a row vector\n",
    "arr = np.array( [1,2,3] )\n",
    "print( \"original array with shape = {0}: \".format( arr.shape ) )\n",
    "print( arr )\n",
    "print( \"\" )\n",
    "\n",
    "arr = np.reshape( arr, newshape=(3,1) )\n",
    "print( \"reshaped array with shape = {0}: \".format( arr.shape ))\n",
    "print( arr )"
   ]
  },
  {
   "cell_type": "code",
   "execution_count": 26,
   "metadata": {},
   "outputs": [
    {
     "name": "stdout",
     "output_type": "stream",
     "text": [
      "[[1 2 3]\n",
      " [4 5 6]]\n"
     ]
    }
   ],
   "source": [
    "# put the numbers 1-6 in a 2X3 array\n",
    "arr_1 = np.arange( 1, 7 ).reshape( (2,3) )\n",
    "print( arr_1 )"
   ]
  },
  {
   "cell_type": "markdown",
   "metadata": {},
   "source": [
    "### 5.2 The `newaxis` expression\n",
    "\n",
    "Another way of manipulating the dimensions of an existing array is the `newaxis` expression. More precisely, it will increase the dimension of the existing array by one (a 1D array will become a 2D array, a 2D array will become a 3D array, and so on)."
   ]
  },
  {
   "cell_type": "code",
   "execution_count": 27,
   "metadata": {},
   "outputs": [
    {
     "name": "stdout",
     "output_type": "stream",
     "text": [
      "arr.shape  = (3,),   arr  = [0 1 2]\n",
      "arr2.shape = (1, 3), arr2 = [[0 1 2]]\n"
     ]
    }
   ],
   "source": [
    "# inserting an axis along the first dimension to create a row vector\n",
    "arr = np.arange( 3 )\n",
    "arr2 = arr[ np.newaxis, : ]\n",
    "print( \"arr.shape  = {0},   arr  = {1}\".format( arr.shape, arr ) )\n",
    "print( \"arr2.shape = {0}, arr2 = {1}\".format( arr2.shape, arr2 ) )"
   ]
  },
  {
   "cell_type": "code",
   "execution_count": 28,
   "metadata": {},
   "outputs": [
    {
     "name": "stdout",
     "output_type": "stream",
     "text": [
      "arr.shape  = (3,),   arr  = [0 1 2]\n",
      "arr2.shape = (3, 1), arr2 =\n",
      "[[0]\n",
      " [1]\n",
      " [2]]\n"
     ]
    }
   ],
   "source": [
    "# inserting a new axis along the second dimension to make a column vector\n",
    "arr = np.arange( 3 )\n",
    "arr2 = arr[ :, np.newaxis ]\n",
    "print( \"arr.shape  = {0},   arr  = {1}\".format( arr.shape, arr ) )\n",
    "print( \"arr2.shape = {0}, arr2 =\".format( arr2.shape ) )\n",
    "print( arr2 )"
   ]
  },
  {
   "cell_type": "markdown",
   "metadata": {},
   "source": [
    "## 6. Concatenate arrays\n",
    "\n",
    "Concatenate (i.e. join) two or more arrays in NumPy can be done with \n",
    "* `np.concatenate`\n",
    "* `np.vstack`: vertical stack\n",
    "* `np.hstack`: horizontal stack"
   ]
  },
  {
   "cell_type": "code",
   "execution_count": 29,
   "metadata": {},
   "outputs": [
    {
     "name": "stdout",
     "output_type": "stream",
     "text": [
      "arr_1: [ 0.  0.  0.  0.  0.]\n",
      "arr_2: [ 1.  1.  1.  1.  1.]\n",
      "arr_3: [30 40 50 60 70]\n",
      "\n",
      "concatenated array: \n",
      "[  0.   0.   0.   0.   0.   1.   1.   1.   1.   1.  30.  40.  50.  60.  70.]\n"
     ]
    }
   ],
   "source": [
    "# concatenate 1D array\n",
    "arr_1 = np.zeros( 5 )\n",
    "arr_2 = np.ones( 5 )\n",
    "arr_3 = np.array( [30,40,50,60,70] )\n",
    "print( \"arr_1: {0}\".format(arr_1)) \n",
    "print( \"arr_2: {0}\".format(arr_2)) \n",
    "print( \"arr_3: {0}\".format(arr_3)) \n",
    "print( \"\" )\n",
    "\n",
    "print( \"concatenated array: \")\n",
    "print( np.concatenate( [arr_1,arr_2,arr_3] ) )"
   ]
  },
  {
   "cell_type": "code",
   "execution_count": 30,
   "metadata": {},
   "outputs": [
    {
     "data": {
      "text/plain": [
       "array([[ 1,  2,  3],\n",
       "       [10, 20, 30],\n",
       "       [ 1,  2,  3],\n",
       "       [10, 20, 30]])"
      ]
     },
     "execution_count": 30,
     "metadata": {},
     "output_type": "execute_result"
    }
   ],
   "source": [
    "# concatenate 2D arrays\n",
    "arr_1 = np.array( [[1 ,2 ,3 ],\n",
    "                   [10,20,30]])\n",
    "# along the first axis\n",
    "np.concatenate( [arr_1,arr_1] )"
   ]
  },
  {
   "cell_type": "code",
   "execution_count": 31,
   "metadata": {},
   "outputs": [
    {
     "name": "stdout",
     "output_type": "stream",
     "text": [
      "[[ 1  2  3  1  2  3]\n",
      " [10 20 30 10 20 30]]\n"
     ]
    }
   ],
   "source": [
    "# along the second axis\n",
    "print( np.concatenate( [arr_1,arr_1], axis=1 ) )"
   ]
  },
  {
   "cell_type": "code",
   "execution_count": 32,
   "metadata": {},
   "outputs": [
    {
     "name": "stdout",
     "output_type": "stream",
     "text": [
      "[ 0.  0.  0.]\n",
      "[[ 1.  1.  1.]\n",
      " [ 1.  1.  1.]]\n",
      "\n",
      "[[ 0.  0.  0.]\n",
      " [ 1.  1.  1.]\n",
      " [ 1.  1.  1.]]\n"
     ]
    }
   ],
   "source": [
    "# stack array vertically\n",
    "# 1D array with only zeros of length 3\n",
    "arr_1 = np.zeros( 3 )\n",
    "# 2D array with only ones of size (2,3)\n",
    "arr_2 = np.ones( (2,3) )\n",
    "\n",
    "print( arr_1 )\n",
    "print( arr_2 )\n",
    "print( \"\" )\n",
    "print( np.vstack( [arr_1,arr_2] ) )"
   ]
  },
  {
   "cell_type": "code",
   "execution_count": 33,
   "metadata": {},
   "outputs": [
    {
     "name": "stdout",
     "output_type": "stream",
     "text": [
      "[[ 0.  0.  0.]\n",
      " [ 0.  0.  0.]]\n",
      "[[44]\n",
      " [44]]\n",
      "\n",
      "[[  0.   0.   0.  44.]\n",
      " [  0.   0.   0.  44.]]\n"
     ]
    }
   ],
   "source": [
    "# stack arrays horizonzally\n",
    "arr_1 = np.zeros( (2,3) )\n",
    "arr_2 = np.array( [[44],\n",
    "                   [44]] )\n",
    "\n",
    "print( arr_1 )\n",
    "print( arr_2 )\n",
    "print( \"\" )\n",
    "print( np.hstack( [arr_1,arr_2] ))"
   ]
  },
  {
   "cell_type": "markdown",
   "metadata": {},
   "source": [
    "## 7. Split arrays\n",
    "\n",
    "Similar to `concatenate`, three ways exists to split an array:\n",
    "\n",
    "* `np.split` \n",
    "* `np.hsplit`: split horizontally\n",
    "* `np.vsplit`: split vertically"
   ]
  },
  {
   "cell_type": "code",
   "execution_count": 34,
   "metadata": {},
   "outputs": [
    {
     "name": "stdout",
     "output_type": "stream",
     "text": [
      "arr_1: [ 5  3 12  8  3  1  3  5 15]\n",
      "\n",
      "split into 3 subarrays: [array([ 5,  3, 12]), array([8, 3, 1]), array([ 3,  5, 15])]\n"
     ]
    }
   ],
   "source": [
    "# create 1D array of random integers in interval [low,high)\n",
    "arr_1 = np.random.randint( low=1, high=20, size=9 )\n",
    "print( \"arr_1: {0}\".format(arr_1) )\n",
    "print( \"\" )\n",
    "\n",
    "# split into N subarrays of equal length (if not possible, exception is raised)\n",
    "print( \"split into 3 subarrays: {0}\".format( np.split( arr_1, 3 ) ) )"
   ]
  },
  {
   "cell_type": "code",
   "execution_count": 35,
   "metadata": {},
   "outputs": [
    {
     "data": {
      "text/plain": [
       "[array([5, 3]), array([12]), array([ 8,  3,  1,  3,  5, 15])]"
      ]
     },
     "execution_count": 35,
     "metadata": {},
     "output_type": "execute_result"
    }
   ],
   "source": [
    "# split at explicitly defined split points\n",
    "np.split( arr_1, [2,3] )"
   ]
  },
  {
   "cell_type": "code",
   "execution_count": 36,
   "metadata": {},
   "outputs": [
    {
     "data": {
      "text/plain": [
       "array([[87, 12, 10, 14],\n",
       "       [99, 23, 36, 18],\n",
       "       [88, 24, 99, 51]])"
      ]
     },
     "execution_count": 36,
     "metadata": {},
     "output_type": "execute_result"
    }
   ],
   "source": [
    "# create 2D array of random integers\n",
    "arr_1 = np.random.randint( low=10, high=100, size=(3,4) )\n",
    "arr_1"
   ]
  },
  {
   "cell_type": "code",
   "execution_count": 37,
   "metadata": {},
   "outputs": [
    {
     "data": {
      "text/plain": [
       "[array([[87, 12, 10, 14]]),\n",
       " array([[99, 23, 36, 18]]),\n",
       " array([[88, 24, 99, 51]])]"
      ]
     },
     "execution_count": 37,
     "metadata": {},
     "output_type": "execute_result"
    }
   ],
   "source": [
    "# split vertically (either via setting number of subarray or defining split points)\n",
    "np.vsplit( arr_1, 3)"
   ]
  },
  {
   "cell_type": "code",
   "execution_count": 38,
   "metadata": {},
   "outputs": [
    {
     "data": {
      "text/plain": [
       "[array([[87, 12],\n",
       "        [99, 23],\n",
       "        [88, 24]]), array([[10, 14],\n",
       "        [36, 18],\n",
       "        [99, 51]])]"
      ]
     },
     "execution_count": 38,
     "metadata": {},
     "output_type": "execute_result"
    }
   ],
   "source": [
    "# split horizontally\n",
    "np.hsplit( arr_1, 2 )"
   ]
  },
  {
   "cell_type": "markdown",
   "metadata": {},
   "source": [
    "## 8. Array methods"
   ]
  },
  {
   "cell_type": "code",
   "execution_count": 39,
   "metadata": {},
   "outputs": [
    {
     "name": "stdout",
     "output_type": "stream",
     "text": [
      "mean: -0.11977540932033406\n",
      "max : 1.9451156144867858\n",
      "min : -2.0915996696872643\n",
      "std : 0.8942366442982189\n",
      "sum : -5.988770466016703\n"
     ]
    }
   ],
   "source": [
    "# create an array with random samples drawn from a normal (Gaussian) distribution\n",
    "arr = np.random.normal( loc=.0, scale=1., size=50 )\n",
    "\n",
    "# various often used numerical methods\n",
    "print( \"mean: {0}\".format( arr.mean() ))\n",
    "print( \"max : {0}\".format( arr.max()  ))\n",
    "print( \"min : {0}\".format( arr.min()  ))\n",
    "print( \"std : {0}\".format( arr.std()  ))\n",
    "print( \"sum : {0}\".format( arr.sum()  ))"
   ]
  },
  {
   "cell_type": "code",
   "execution_count": 40,
   "metadata": {},
   "outputs": [
    {
     "name": "stdout",
     "output_type": "stream",
     "text": [
      "max(arr) = 1.9451156144867858, at position = 30\n",
      "min(arr) = -2.0915996696872643, at position = 36\n"
     ]
    }
   ],
   "source": [
    "# methods to return position of maximum or minimum\n",
    "pos_max = arr.argmax()\n",
    "pos_min = arr.argmin()\n",
    "\n",
    "print( \"max(arr) = {0}, at position = {1}\".format( arr[pos_max], pos_max ) )\n",
    "print( \"min(arr) = {0}, at position = {1}\".format( arr[pos_min], pos_min ) )"
   ]
  },
  {
   "cell_type": "markdown",
   "metadata": {},
   "source": [
    "## 9. Search arrays\n",
    "\n",
    "To locate an element or its nearest value in an array, the numpy function `where` or the method `argmin` can be used."
   ]
  },
  {
   "cell_type": "markdown",
   "metadata": {},
   "source": [
    "Locate a value (actually its nearest value) using the `argmin` method."
   ]
  },
  {
   "cell_type": "code",
   "execution_count": 41,
   "metadata": {},
   "outputs": [
    {
     "name": "stdout",
     "output_type": "stream",
     "text": [
      "arr = [  1.   2.   3.   4.   5.   6.   7.   8.   9.  10.]\n",
      "val = 5.0, result: arr[4] = 5.0\n"
     ]
    }
   ],
   "source": [
    "# create 1D array \n",
    "arr = np.linspace( start=1, stop=10, num=10)\n",
    "\n",
    "# locate neareste value\n",
    "val    = 5.\n",
    "val_id = ( np.abs(arr - val) ).argmin()\n",
    "\n",
    "print( \"arr = {0}\".format( arr ) )\n",
    "print( \"val = {0}, result: arr[{1}] = {2}\".format( \n",
    "       val, val_id, arr[val_id] ) )"
   ]
  },
  {
   "cell_type": "markdown",
   "metadata": {},
   "source": [
    "Locate a value (actually its nearest value) in a multidimensional array using NumPy's `where` function."
   ]
  },
  {
   "cell_type": "code",
   "execution_count": 42,
   "metadata": {},
   "outputs": [
    {
     "name": "stdout",
     "output_type": "stream",
     "text": [
      "arr = \n",
      "[[ 0.53093458  0.44778316  0.55289309  0.59269672]\n",
      " [ 0.08085333  0.36965446  0.24215994  0.80313976]]\n",
      "val = 0.5, result: arr[(array([0]), array([0]))] = [ 0.53093458]\n"
     ]
    }
   ],
   "source": [
    "# create 2D array of random floats\n",
    "arr = np.random.random( size = (2,4) )\n",
    "\n",
    "# locate nearest value\n",
    "val     = .5\n",
    "arr_tmp = np.abs( arr - val )\n",
    "val_id  = np.where( arr_tmp == arr_tmp.min() )\n",
    "\n",
    "# print info\n",
    "print( \"arr = \" )\n",
    "print( arr )\n",
    "print( \"val = {0}, result: arr[{1}] = {2}\".format(\n",
    "       val, val_id, arr[val_id] ) )"
   ]
  },
  {
   "cell_type": "markdown",
   "metadata": {},
   "source": [
    "Is can be useful sometimes to find all values larger or small than a certain quantity. This can be done with a simple call of the `where` function."
   ]
  },
  {
   "cell_type": "code",
   "execution_count": 43,
   "metadata": {},
   "outputs": [
    {
     "name": "stdout",
     "output_type": "stream",
     "text": [
      "arr = [  1.   2.   3.   4.   5.   6.   7.   8.   9.  10.]\n",
      "val = 5.0, positions = (array([5, 6, 7, 8, 9]),), arr_values = [  6.   7.   8.   9.  10.]\n"
     ]
    }
   ],
   "source": [
    "# create 1D array\n",
    "arr = np.linspace( start=1, stop=10, num=10 )\n",
    "\n",
    "# locate all values larger than a certain value\n",
    "val  = 5.\n",
    "find = np.where( arr > val )\n",
    "\n",
    "# print info\n",
    "print( \"arr = {0}\".format( arr ) )\n",
    "print( \"val = {0}, positions = {1}, arr_values = {2}\".format( \n",
    "       val, find, arr[find] ) )"
   ]
  }
 ],
 "metadata": {
  "kernelspec": {
   "display_name": "Python 3",
   "language": "python",
   "name": "python3"
  },
  "language_info": {
   "codemirror_mode": {
    "name": "ipython",
    "version": 3
   },
   "file_extension": ".py",
   "mimetype": "text/x-python",
   "name": "python",
   "nbconvert_exporter": "python",
   "pygments_lexer": "ipython3",
   "version": "3.5.2"
  }
 },
 "nbformat": 4,
 "nbformat_minor": 2
}
